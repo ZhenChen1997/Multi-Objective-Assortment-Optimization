{
  "cells": [
    {
      "cell_type": "markdown",
      "metadata": {},
      "source": [
        "# <font size= 5> Introduction\n",
        "# <font size= 5>This Notebook implements the ICG algorithm for solving the 2-objective assortment optimization under the **Multinomial Logit (MNL) model**. The primary goal is to identify a set of candidate assortments for a given collection of products, and the optimal assortment must be included. The entire process is divided into three main parts:\n",
        "# <font size= 5> 1.  **Algorithm Implementation**: Based on a geometric approach, we first generates a list of candidate assortments.\n",
        "# <font size= 5> 2.  **Identify the Optimal Assortment**: By checking the objective function value of all candidates, we find the optimal assortment.\n",
        "# <font size= 5> 3.  **Correctness Verification**: The algorithm's results are validated by comparing them against a **brute-force enumeration** of all possible assortments to ensure the identified efficient frontier is correct."
      ]
    },
    {
      "cell_type": "markdown",
      "metadata": {},
      "source": [
        "**<font size= 5> Libraries<font>**"
      ]
    },
    {
      "cell_type": "code",
      "execution_count": 1,
      "metadata": {
        "trusted": true
      },
      "outputs": [],
      "source": [
        "import matplotlib.pyplot as plt\n",
        "import numpy as np\n",
        "import time\n",
        "from scipy.spatial import ConvexHull, convex_hull_plot_2d\n",
        "from itertools import combinations"
      ]
    },
    {
      "cell_type": "markdown",
      "metadata": {},
      "source": [
        "**<font size= 5> Functions<font>**"
      ]
    },
    {
      "cell_type": "markdown",
      "metadata": {},
      "source": [
        "**<font size= 4> Functions used in ICG:**\n",
        "\n",
        "**Basic functions used to compute utility:**\n",
        "- **These functions compute fundamental metrics for a given assortment `S` based on the MNL model.**"
      ]
    },
    {
      "cell_type": "code",
      "execution_count": 2,
      "metadata": {
        "trusted": true
      },
      "outputs": [],
      "source": [
        "#Given an assortment S, prob(S) returns a list of choice probablities for all products in S\n",
        "\n",
        "# S (list or array): A list of product indices.\n",
        "# v (array): An array of product attractiveness values (randomly generated in each instance), global constant in each instance\n",
        "# rev (array): An array of product revenues (randomly generated in each instance), global constant in each instance\n",
        "# v0 (float): The attractiveness value of the no-purchase option, global constant in each instance\n",
        "\n",
        "\n",
        "# Calculates the choice probability for each product in a given assortment S.\n",
        "# Returns an array of choice probabilities for each product in S.\n",
        "def prob(S):                                  \n",
        "    Temp_prob = S\n",
        "    return v.take(Temp_prob)/(v0+(v.take(Temp_prob)).sum())\n",
        "\n",
        "#Returns the expected revenue of assortment S\n",
        "def Rev(S):\n",
        "    Temp_Rev = S\n",
        "    return (rev.take(Temp_Rev)*(v.take(Temp_Rev)/(v0+(v.take(Temp_Rev)).sum()))).sum()\n",
        "\n",
        "#Given an assortment S and x-coordinate, L returns the function value of \\Lscr_{k}(x) (the formula is specific to Example B.1 in the paper).\n",
        "# \\Lscr_{k}(x) = \\sum_{i \\in S_k} (r_i - r_i^2 * x)q_i(S_k)\n",
        "def L(S,x):\n",
        "    Temp_L = S\n",
        "    return (rev.take(Temp_L)*(v.take(Temp_L)/(v0+(v.take(Temp_L)).sum()))).sum()-((rev.take(Temp_L)**2*(v.take(Temp_L)/(v0+(v.take(Temp_L)).sum()))).sum())*x\n",
        "\n",
        "#Given product index k, ell returns the function value of \\omega_k(x) (the formula is specific to Example B.1 in the paper).\n",
        "def ell(k,x):\n",
        "    return rev[k] - (rev[k]**2)*x\n",
        "\n",
        "#Returns the variance in revenue given assortment S\n",
        "def Var(S):\n",
        "    Temp_Var = S\n",
        "    return (rev.take(Temp_Var)**2*(v.take(Temp_Var)/(v0+(v.take(Temp_Var)).sum()))).sum() - ((rev.take(Temp_Var)*(v.take(Temp_Var)/(v0+(v.take(Temp_Var)).sum()))).sum())**2\n"
      ]
    },
    {
      "cell_type": "markdown",
      "metadata": {},
      "source": [
        "- **Helper functions for the ICG algorithm. For each of them, the parameter k represents the $k$-th loops**"
      ]
    },
    {
      "cell_type": "code",
      "execution_count": 3,
      "metadata": {
        "trusted": true
      },
      "outputs": [],
      "source": [
        "\"\"\"\n",
        "N_active_list: Global list, N_active_list[k-1] is the active product set at step k-1\n",
        "Cand_Assort: Global list, Cand_Assort[k-1] is the candidate assortment found at step k-1\n",
        "gamma_array: Global array that stores all x-coordinate of breakpoints, gamma_array[k] = $\\gamma_k$ \n",
        "\"\"\"\n",
        "\n",
        "# Finds the set of product lines l_i that are \"parallel\" (i.e., with equal E[rev^2] value) to the current envelope L_{S_{k-1}}.\n",
        "# Returns a set of indices of such products.\n",
        "def Parallel(k):\n",
        "    N_parallel = set()\n",
        "    Temp_Active = N_active_list[k-1]  # Get the active product set from the previous step\n",
        "    Temp_Cand = Cand_Assort[k-1]      # Get the candidate assortment from the previous step\n",
        "    \n",
        "    # Check if E[rev^2] for each active product i is approximately equal to E[rev^2] of the current assortment S_{k-1}\n",
        "    for i in Temp_Active:\n",
        "        if abs(rev[i]**2 - (rev.take(Temp_Cand)**2*prob(Temp_Cand)).sum()) < allowed_error:\n",
        "            N_parallel.add(i)\n",
        "    return N_parallel\n",
        "\n",
        "# Returns the x-coordinate of the intersection of Lscr_{k-1} and omega_i\n",
        "def Intersection(k,i):\n",
        "# i: product index\n",
        "    Temp_Cand = Cand_Assort[k-1]\n",
        "    return (rev[i]-Rev(Temp_Cand))/(-((rev.take(Temp_Cand)**2*prob(Temp_Cand)).sum())+rev[i]**2)\n",
        "\n",
        "def Gamma_Update(k):\n",
        "    \"\"\"\n",
        "    Computes the x-coordinate of the next breakpoint, gamma_k, and the set of product lines, N_update,\n",
        "    that intersect with L_{S_{k-1}} at that point. This breakpoint is the one with the smallest x-coordinate\n",
        "    among all future intersections.\n",
        "\n",
        "    Returns:\n",
        "            Output (list): [gamma_k, N_update], where gamma_k is the next breakpoint and N_update is the set of\n",
        "            product indices that form the new upper envelope at that point.\n",
        "    \"\"\"\n",
        "\n",
        "    Output = []\n",
        "    Temp_N_Update = set()\n",
        "    Temp_Gamma = 1e10    # Initialize with a large number to find the minimum\n",
        "    Temp_index = 0\n",
        "    Temp_Active = N_active_list[k-1]  # Get the current set of active products\n",
        "    \n",
        "    # Iterate through all non-parallel active product lines\n",
        "    for i in Temp_Active.difference(Parallel(k)):\n",
        "        # Find the leftmost intersection point to the right of the current breakpoint gamma_{k-1}\n",
        "        if Intersection(k,i) - gamma_array[k-1] > allowed_error and Intersection(k,i)<Temp_Gamma:\n",
        "            Temp_Gamma = Intersection(k,i)                                         \n",
        "            Temp_index = i\n",
        "    Temp_N_Update.add(Temp_index)\n",
        "    Output.append(Temp_Gamma)\n",
        "    Output.append(Temp_N_Update)   \n",
        "    return Output\n",
        "\n",
        "# The set unions with N^{update} in Step 3, which is the set of lines overlapping with Lscr_{k-1}(gamma_k)\n",
        "# gamma: The x-coordinate of the current breakpoint.\n",
        "def Reduction(k,gamma):\n",
        "    A = set()\n",
        "    for i in Parallel(k):\n",
        "        # Check if the parallel line omega_i(gamma_k) has the same value as L_{S_{k-1}}(gamma_k)\n",
        "        if abs(rev[i]-rev[i]**2*gamma - L(Cand_Assort[k-1],gamma_array[k])) < allowed_error:\n",
        "            A.add(i)\n",
        "    return A \n",
        "\n",
        "# Given gamma_k, returns the set of line indexs in N^{active} which follows that omega_i(gamma_k) > 0 at current interval\n",
        "def Positive(k,gamma):\n",
        "    A = set()\n",
        "    for i in N_active_list[k-1]:\n",
        "        if rev[i]-rev[i]**2*gamma > 0:\n",
        "            A.add(i)\n",
        "    return A"
      ]
    },
    {
      "cell_type": "markdown",
      "metadata": {},
      "source": [
        "- **Functions used to compute the efficient frontier and check correctness**"
      ]
    },
    {
      "cell_type": "code",
      "execution_count": 4,
      "metadata": {
        "trusted": true
      },
      "outputs": [],
      "source": [
        "'''\n",
        "In the dual space, given two connected vertices S1,S2 of the convex hull, Line2Point(S1,S2) computes the slope of the line that \n",
        "defined by them. In the primal space, S1,S2 corresponds to two lines, and the slope corresponds to the x-axis of their intersection\n",
        "'''\n",
        "def Line2Point(S1,S2):\n",
        "    Slope2x = (S2[1]-S1[1])/(S2[0]-S1[0])         \n",
        "    return Slope2x\n",
        "\n",
        "#Given an assortment S and an index j that determines lambda value, Obj returns the objective function value\n",
        "def Obj(S,j):\n",
        "    return Rev(S) - Var(S)*lambda_coeff[j]"
      ]
    },
    {
      "cell_type": "markdown",
      "metadata": {},
      "source": [
        "## <font size = 5> Data Generation and Initialization\n",
        "**Given a product set size, we randomly generate revenues of all products and necessary parameters to compute the attraction vector. We then reindex the products in descending order of revenue.**"
      ]
    },
    {
      "cell_type": "code",
      "execution_count": 5,
      "metadata": {
        "trusted": true
      },
      "outputs": [],
      "source": [
        "# --- Parameters ---\n",
        "n = 20        # number of products \n",
        "v0 = 1        # Attraction value of the no-purchase option\n",
        "allowed_error = 1e-8 # Maximum error allowed in comparison\n",
        "\n",
        "#Upperbound of parameters, where v = exp(alpha - beta* rev)\n",
        "Upper_alpha = 10\n",
        "Upper_beta = 1\n",
        "Upper_rev = 10\n",
        "#Global variables used to test speed and correctness\n",
        "cand_number = []    # Number of candidate assortments generated in each run\n",
        "optimal_number = [] # Number of optimal assortments on the efficient frontier in each run\n",
        "time_number = []    # Execution time for each run\n",
        "Correctness = []    # Correctness check result for each run (1 for correct, 0 for incorrect)             \n",
        "\n",
        "#Generate randomized parameters\n",
        "alpha = np.random.uniform(0,Upper_alpha,n)\n",
        "beta = np.random.uniform(0,Upper_beta,n)\n",
        "rev_Init = np.random.uniform(0,Upper_rev,n)\n",
        "\n",
        "#Reorder products by revenue in descending order\n",
        "start = time.process_time()                       #record the starting time\n",
        "rev = np.array(sorted(rev_Init,reverse=True))\n",
        "# Calculate attraction values 'v' based on the sorted revenues\n",
        "v = np.exp(alpha-beta*rev)"
      ]
    },
    {
      "cell_type": "markdown",
      "metadata": {},
      "source": [
        "**2. We then initialize the algorithm for k = 0 and compute Step1 of the algorithm**"
      ]
    },
    {
      "cell_type": "code",
      "execution_count": 6,
      "metadata": {
        "trusted": true
      },
      "outputs": [],
      "source": [
        "#Initialization - Candidate assortments S_0 for gamma = 0\n",
        "N = np.arange(n)                                 # The set of product indices {0,1,2,...,n-1}\n",
        "Cand = [N[:i+1] for i in range(n)]               # Cand contains all revenue-ordered nested assortments: {0}, {0,1}, ...                     \n",
        "S_0 = list(Cand[0])\n",
        "\n",
        "# At gamma = 0, the objective is to maximize expected revenue Rev(S).\n",
        "# Iterate through candidates to find the optimal S_0.\n",
        "Gamma_0 = Rev(Cand[0])                           \n",
        "for i in range(n):                               \n",
        "    if Gamma_0 - Rev(Cand[i]) < allowed_error:\n",
        "        Gamma_0 = Rev(Cand[i])\n",
        "        S_0 = list(Cand[i])\n",
        "\n",
        "# --- Initialize lists for storing iteration history ---\n",
        "\n",
        "# Cand_Assort: Stores the candidate assortment S_k from each iteration. Cand_Assort[k] = S_k.\n",
        "Cand_Assort = []\n",
        "Cand_Assort.append(S_0)\n",
        "\n",
        "#Alg Initialization\n",
        "k = 1                                            \n",
        "N_active = set(N)   # Initially, all products are active\n",
        "# gamma_array: Stores the x-coordinates of all breakpoints. gamma_array[k] = gamma_k.\n",
        "gamma_array = list(range(0,1))                    # The initial breakpoint is at 0\n",
        "# N_active_list: Stores the active product set N_active for each iteration.\n",
        "# N_active_list[k-1] = active set for the k-th iteration.\n",
        "N_active_list = []\n",
        "N_active_list.append(N_active)                    \n",
        "\n",
        "# Calculate the first non-zero breakpoint, gamma_1\n",
        "gamma_array.append(Gamma_Update(k)[0])  "
      ]
    },
    {
      "cell_type": "markdown",
      "metadata": {},
      "source": [
        "In the code above, we created several important lists/arrays to store the output of each loop when we later iteratively run the algorithm, here we highlight the definitions of these variables:\n",
        "\n",
        "- **Cand_Assort**: The list that stores all candidate assortment $S_k$ generated in each iteration(empty set is not included), Cand_Assort[k] = $S_k$\n",
        "- **N_active_list**: The list that stores all set $N^{\\sf active}$ for each iteration, N_active_list[k] is the set in k-th iteration\n",
        "- **gamma_array**: The array that stores all x-coordinate of breakpoints, gamma_array[k] = $\\gamma_k$ "
      ]
    },
    {
      "cell_type": "markdown",
      "metadata": {},
      "source": [
        "**3. We run Step2 and 3 iteratively to obtain all candidate assortments, utill Lscr intersects with the x-axis**. In each step, we follow the steps in the pseudo-code of ICG to update the sets and lists, and store $S_k$ and $N^{\\sf active}$ for next iteration."
      ]
    },
    {
      "cell_type": "code",
      "execution_count": 7,
      "metadata": {
        "trusted": true
      },
      "outputs": [],
      "source": [
        "# Continue iterating as long as the upper envelope's value at the current breakpoint is positive\n",
        "while (L(Cand_Assort[k-1],gamma_array[k]) > allowed_error):\n",
        "    Sk_1 = set(Cand_Assort[k-1])                        # Candidate assortment from the previous step, S_{k-1}\n",
        "\n",
        "    # --- Compute the components needed for the next step ---\n",
        "    Temp_Gamma = Gamma_Update(k)[0]    # The new breakpoint, gamma_k\n",
        "    Temp_N_Update = Gamma_Update(k)[1] # The product set intersecting the envelope at gamma_k\n",
        "    Temp_Reduction = Reduction(k, Temp_Gamma) # The product set to be removed at gamma_k\n",
        "    Temp_Positive = Positive(k, Temp_Gamma)  # The set of products with l_i > 0 at gamma_k\n",
        "    \n",
        "    # --- Update the candidate assortment and the active product set ---\n",
        "    # Calculate the new candidate assortment: S_k = (S_{k-1} XOR N_update) - N_reduction\n",
        "    Sk = (Sk_1.symmetric_difference(Temp_N_Update)).difference(Temp_Reduction)\n",
        "    \n",
        "    # N_remove are the products that were in S_{k-1} but are no longer in S_k\n",
        "    N_remove = Sk_1.difference(Sk)                        \n",
        "    \n",
        "    # Update the active product set: N_active = {i in N_positive | i not in N_remove}\n",
        "    N_active = Temp_Positive.difference(N_remove)\n",
        "\n",
        "    # --- Store the results of this iteration ---\n",
        "    Cand_Assort.append(list(Sk))\n",
        "    N_active_list.append(N_active)\n",
        "\n",
        "    # --- Prepare for the next iteration ---\n",
        "    k = k + 1\n",
        "    # Calculate the next breakpoint, gamma_{k+1}\n",
        "    gamma_array.append(Gamma_Update(k)[0])\n",
        "\n",
        "# After the loop terminates, the Cand_Assort list contains all generated candidate assortments."
      ]
    },
    {
      "cell_type": "markdown",
      "metadata": {},
      "source": [
        "When iteration stops, the latest **Cand_Assort** list contains all candidate assortments we generate."
      ]
    },
    {
      "cell_type": "markdown",
      "metadata": {},
      "source": [
        "**4. After obtaining all candidate assortments, we then work on identifying the efficient frontier of the given instance. The idea of the algorithm is given as follows:**\n",
        "\n",
        "Since we have already discussed the property of the efficient frontier (i.e., a pointwise maximum function of all lines $(-{\\sf Var}*\\lambda+{\\sf Rev})$, identifying efficient frontier is equivalent to identifying the upper envelope of all lines, each segment of which represents an candidate assortment. \n",
        "\n",
        "Then we note that all these lines can be converted to a point in the form of $(-{\\sf Var}, -{\\sf Rev})$ in the dual space, and the upper/lower envelope corresponds to the lower/upper convex hull of all converted points. The convex hull of a point set can be computed directly by using scipy library. \n",
        "\n",
        "Therefore, we just need to figure out which part of the convex hull belongs to the lower hull. Intuitively, we note that in the risk-sensitive case, our parameter $\\lambda$ increases from 0 to $+\\infty$, which implies that when $\\lambda = 0$, the line with maximum ${\\sf Rev}$ value is the uppermost line. Similarly, when $\\lambda\\rightarrow +\\infty$, the line with maximum ${\\sf -Var}$ value will be the uppermost line. After determining the start position and end position, we can quickly compute the efficient frontier (the ConvexHull function in scipy library includes all vertices of the convex hull in couterclock order in the 2-d plane). \n",
        "\n",
        "Besides, it is also worth noting that when computing the efficient frontier, if a segment of the efficient frontier intersects with x-axis, then the empty set becomes optimal after this intersection. So we compare the intersection of a line $L_k$ with the next line (i.e., the line which is adjcent in the list of lower hull vertices) with the root of $L_k$, if the root is smaller in x-coordinate, we break the loop and add 'empty set' as the last optimal assortment. Otherwise, we continue the loop. "
      ]
    },
    {
      "cell_type": "code",
      "execution_count": 8,
      "metadata": {
        "trusted": true
      },
      "outputs": [],
      "source": [
        "#Identify the efficient frontier\n",
        "#Convert the lines L = -Var*lambda + Rev into points (-Var, -Rev)          \n",
        "Points = np.array([[-Var(Cand_Assort[i]),-Rev(Cand_Assort[i])] for i in range(len(Cand_Assort))])\n",
        "\n",
        "#Generate convex Hull, ConvexHull.vertices returns an array of vertex indexes in counterclock order\n",
        "Hull = ConvexHull(Points)\n",
        "\n",
        "# The lower hull starts at the vertex with the minimum -Rev value (i.e., max Rev, optimal for lambda=0)\n",
        "# and ends at the vertex with the maximum -Var value (i.e., min Var, optimal for lambda -> inf).\n",
        "Vertices = Points.take(Hull.vertices,axis=0)         # Get the coordinates of the hull's vertices   \n",
        "\n",
        "#Find the start and end position in the array\n",
        "Start_Position = np.where(Vertices[:,1] == np.min(Vertices[:,1]))[-1]\n",
        "End_Position = np.where(Vertices[:,0] == np.max(Vertices[:,0]))[0]\n",
        "\n",
        "\n",
        "# Constructing the lower hull using start and end position\n",
        "# if start<end, then output the segment of a list, otherwise, traverse the list in a loop utill arriving at end_position\n",
        "\n",
        "if Start_Position[0] > End_Position[0]:\n",
        "    Optimal_Assort_Index = np.hstack((Hull.vertices[Start_Position[0]:] , Hull.vertices[:End_Position[0]+1]))                \n",
        "else:\n",
        "    Optimal_Assort_Index = Hull.vertices[Start_Position[0]:End_Position[0]+1]\n",
        "\n",
        "# Get the list of optimal assortments using the extracted indices\n",
        "Optimal_Assort_Temp = [Cand_Assort[i] for i in Optimal_Assort_Index]\n",
        "\n",
        "# Generate the Efficient Frontier and Corresponding Lambda Intervals ---\n",
        "Efficient_Frontier = [0]  # Breakpoints for lambda, starting from 0\n",
        "Optimal_Assort = []       # The final list of optimal assortments\n",
        "Optimal_Assort.append(Optimal_Assort_Temp[0])  # The first optimal assortment (for lambda=0)\n",
        "\n",
        "# Iterate through the edges of the lower hull to calculate the lambda breakpoints where the optimal assortment changes\n",
        "for i in range(len(Optimal_Assort_Temp)-1):\n",
        "    BP = Line2Point(Points[Optimal_Assort_Index[i]],Points[Optimal_Assort_Index[i+1]])         #x-coord of breakpoint of L_i, L_{i+1}, euqal to the slope of the line covers D_i, D_{i+1}\n",
        "    \n",
        "    # Calculate the intersection of the current line L_i with the x-axis (xzero).\n",
        "    # If the next breakpoint BP is to the right of xzero, it means the empty set becomes optimal before L_{i+1}.\n",
        "    xzero = Points[Optimal_Assort_Index[i]][1]/(Points[Optimal_Assort_Index[i]][0])            #x_0 = -k/b = -Var/-Rev\n",
        "    \n",
        "    # If the switch happens before intersecting the x-axis, add the breakpoint and the next optimal assortment.\n",
        "    if BP < xzero:                           \n",
        "        Efficient_Frontier.append(BP)\n",
        "        Optimal_Assort.append(Optimal_Assort_Temp[i+1])\n",
        "    else:\n",
        "     # Otherwise, the next breakpoint is the x-axis intersection, and the empty set becomes optimal.\n",
        "        Efficient_Frontier.append(xzero)\n",
        "        Optimal_Assort.append('Empty set')\n",
        "        break\n",
        "\n",
        "'''\n",
        "For every efficient frontier, the empty set is always optimal when lambda is large enough, \n",
        "so we add empty set to the EF (and the root of the last line) if it has not been added\n",
        "'''\n",
        "if Optimal_Assort[-1] != 'Empty set':\n",
        "    Efficient_Frontier.append(Points[Optimal_Assort_Index[len(Optimal_Assort_Temp)-1]][1]/(Points[Optimal_Assort_Index[len(Optimal_Assort_Temp)-1]][0]))\n",
        "    Optimal_Assort.append('Empty set')\n",
        "Efficient_Frontier.append('Infinity')  # The last interval extends to positive infinity"
      ]
    },
    {
      "cell_type": "markdown",
      "metadata": {},
      "source": [
        "Finally, we compute the running time of the program and output the number of candidate assortments, the number of optimal assortments, the efficient frontier and the running time.\n",
        "\n",
        "For the efficient frontier, we output lists of optimal assortments and intersections, for any element Optimal_Assort[k], it is optimal for $\\lambda\\in [{\\sf Efficient~Frontier}[k],{\\sf Efficient~Frontier}[k+1]]$\n",
        "\n",
        "To conclude, all functions are computed based on global functions **rev[]**, **v[]**, **N_active_list[]**, **Cand_Assort[]**, we can run this program simply based on the input of $\\sf rev$ and attraction vector $\\sf v$, the latter one can either be computed using given parameters of $\\alpha$, $\\beta$ and $\\sf rev$, or by known data. "
      ]
    },
    {
      "cell_type": "code",
      "execution_count": 9,
      "metadata": {
        "trusted": true
      },
      "outputs": [],
      "source": [
        "# Record the results of this experiment\n",
        "cand_number.append(len(Cand_Assort))\n",
        "optimal_number.append(len(Optimal_Assort))\n",
        "end = time.process_time()\n",
        "time_number.append(end - start)\n",
        "\n",
        "# # Print the results\n",
        "# print(\"All Candidate Assortments (Cand_Assort):\")\n",
        "# print(Cand_Assort)\n",
        "# print(\"\\nOptimal Assortments on the Efficient Frontier:\")\n",
        "# print(Optimal_Assort)          \n",
        "# print(\"\\nLambda Breakpoints of the Efficient Frontier:\")\n",
        "# print(Efficient_Frontier)   \n"
      ]
    },
    {
      "cell_type": "markdown",
      "metadata": {},
      "source": [
        "**<font size = 5>Correctness Check<font>**"
      ]
    },
    {
      "cell_type": "markdown",
      "metadata": {},
      "source": [
        "To check the correctness of our algorithm, we fix the lambda for each interval of the efficient frontier ($\\lambda = 0.5*({\\sf Efficient~Frontier}[k]+{\\sf Efficient~Frontier}[k+1])$), and brutally computing the objective function values of all assortments (i.e., all subsets of {1,2,...,n}).\n",
        "\n",
        "For each interval we brutally find the optimal assortment, and compare it to the the sets outputed in the Efficient Frontier algorithm part. The list **Correctness** stores the result of correctness in each run: if the results from brutal force and the Convex Hull method are the same, then the corresponding element in **Correctness** = 1, Otherwise = 0."
      ]
    },
    {
      "cell_type": "code",
      "execution_count": 10,
      "metadata": {
        "trusted": true
      },
      "outputs": [
        {
          "name": "stdout",
          "output_type": "stream",
          "text": [
            "The average number of candidate assortments is 37.0\n",
            "The average number of optimal assortments is 6.0\n",
            "The average running time is 0.078125\n",
            "The correctness rate of the algorithm is 1.0\n"
          ]
        }
      ],
      "source": [
        "#Check correctness\n",
        "#generate all subsets of N={1,2,...,n}\n",
        "Subsets = []\n",
        "for i in range(len(N)):\n",
        "    for j in combinations(N,i+1):\n",
        "        Subsets.append(j)\n",
        "\n",
        "#Initialization & fix a lambda\n",
        "Temp_optimal_index_list = []\n",
        "Temp_optimal_index = []\n",
        "lambda_coeff = [0.5*(Efficient_Frontier[i] + Efficient_Frontier[i+1]) for i in range(len(Efficient_Frontier)-2)]\n",
        "lambda_coeff.append(Efficient_Frontier[-2]+1)        #List of fixed lambda, the last lambda equals to the intersection with x-axis plus 1\n",
        "\n",
        "\n",
        "#Find the assortment achieving highest objective function value among all subsets\n",
        "for j in range(len(lambda_coeff)):\n",
        "    Temp_obj = 0\n",
        "    Temp_optimal_index = []\n",
        "    # Iterate through all subsets\n",
        "    for i in Subsets:\n",
        "        # Calculate the objective value for the current subset\n",
        "        if Obj(i,j) > Temp_obj:\n",
        "            Temp_obj = Obj(i,j)\n",
        "            Temp_optimal_index = i\n",
        "    if len(Temp_optimal_index) != 0:\n",
        "        Temp_optimal_index_list.append(Temp_optimal_index)\n",
        "\n",
        "# Compare the brute-force results with the algorithm's results\n",
        "Tuple2List = [set(i) for i in Temp_optimal_index_list]\n",
        "Alg_set = [set(i) for i in Optimal_Assort[:-1]]  # Exclude the final 'Empty set' from the algorithm's results\n",
        "\n",
        "if Tuple2List == Alg_set:\n",
        "    Correctness.append(1)\n",
        "else: \n",
        "    Correctness.append(0)\n",
        "\n",
        "#  Print statistics for the single run\n",
        "print('The average number of candidate assortments is', sum(cand_number)/len(cand_number))\n",
        "print('The average number of optimal assortments is', sum(optimal_number)/len(optimal_number))\n",
        "print('The average running time is', sum(time_number)/len(time_number))\n",
        "print('The correctness rate of the algorithm is', sum(Correctness)/len(Correctness))"
      ]
    },
    {
      "cell_type": "markdown",
      "metadata": {},
      "source": [
        "**<font size = 4>Integrated code for numerical experiments <font>**"
      ]
    },
    {
      "cell_type": "markdown",
      "metadata": {},
      "source": [
        "In order to change the product set size or the number of iterations, one can modify parameters at the beginning of the code below, or the number of iterations."
      ]
    },
    {
      "cell_type": "code",
      "execution_count": 11,
      "metadata": {
        "trusted": true
      },
      "outputs": [
        {
          "name": "stdout",
          "output_type": "stream",
          "text": [
            "The average number of candidate assortments is 17.3\n",
            "The average number of optimal assortments is 6.2\n",
            "The average running time is 0.0171875\n",
            "The correctness rate of the algorithm is 1.0\n"
          ]
        }
      ],
      "source": [
        "#Parameters\n",
        "n = 10        # number of products \n",
        "v0 = 1\n",
        "allowed_error = 1e-9 # Maximum error allowed in comparison\n",
        "np.random.seed(1) # Set random seed for reproducibility\n",
        "\n",
        "#Upperbound of parameters\n",
        "Upper_alpha = 10\n",
        "Upper_beta = 1\n",
        "Upper_rev = 10\n",
        "#List of running time\n",
        "cand_number = []\n",
        "optimal_number = []\n",
        "time_number = []\n",
        "Correctness = []\n",
        "\n",
        "#Test\n",
        "for i in range(10):                    #Number of iterations\n",
        "\n",
        "    #Generate randomized parameters\n",
        "    alpha = np.random.uniform(0,Upper_alpha,n)\n",
        "    beta = np.random.uniform(0,Upper_beta,n)\n",
        "    rev_Init = np.random.uniform(0,Upper_rev,n)\n",
        "\n",
        "    #Reorder products by revenue\n",
        "    start = time.process_time()\n",
        "    rev = np.array(sorted(rev_Init,reverse=True))\n",
        "    v = np.exp(alpha-beta*rev)\n",
        "\n",
        "    #Initialization - Candidate assortments S_0 for gamma = 0\n",
        "    N = np.arange(n)                                 #The full set given n\n",
        "    Cand = [N[:i+1] for i in range(n)]               #all n candidates                     \n",
        "    S_0 = list(Cand[0])\n",
        "    Gamma_0 = Rev(Cand[0])\n",
        "    for i in range(n):\n",
        "        if Gamma_0 - Rev(Cand[i]) < allowed_error:\n",
        "            Gamma_0 = Rev(Cand[i])\n",
        "            S_0 = list(Cand[i])\n",
        "\n",
        "    #The list to store candidate assortments(empty set is not included), Cand_Assort[k]= S_k                \n",
        "    Cand_Assort = []\n",
        "    Cand_Assort.append(S_0)\n",
        "\n",
        "    #Alg Initialization\n",
        "    k = 1                                            \n",
        "    N_active = set(N)\n",
        "    gamma_array = list(range(0,1))                    #list of breakpoints\n",
        "    N_active_list = []\n",
        "    N_active_list.append(N_active)                    #N_active_list[k-1] = N_active at k-th iteration\n",
        "\n",
        "    #First run of step 2\n",
        "    gamma_array.append(Gamma_Update(k)[0])  \n",
        "\n",
        "    while (L(Cand_Assort[k-1],gamma_array[k]) > allowed_error):\n",
        "        Sk_1 = set(Cand_Assort[k-1])                        #S_{k-1}\n",
        "        Temp_Gamma = Gamma_Update(k)[0]\n",
        "        Temp_N_Update = Gamma_Update(k)[1]\n",
        "        Temp_Reduction = Reduction(k,Temp_Gamma)\n",
        "        Temp_Positive = Positive(k,Temp_Gamma)\n",
        "        \n",
        "        Sk = (Sk_1.symmetric_difference(Temp_N_Update)).difference(Temp_Reduction)\n",
        "        N_remove = Sk_1.difference(Sk)\n",
        "        N_active = Temp_Positive.difference(N_remove)\n",
        "        Cand_Assort.append(list(Sk))\n",
        "        N_active_list.append(N_active)\n",
        "        k = k + 1\n",
        "        gamma_array.append(Gamma_Update(k)[0])\n",
        "\n",
        "    #Identify the efficient frontier\n",
        "    #Convert the lines L = -Var*lambda + Rev into points (-Var, -Rev)          \n",
        "    Points = np.array([[-Var(Cand_Assort[i]),-Rev(Cand_Assort[i])] for i in range(len(Cand_Assort))])\n",
        "    #Generate convex Hull\n",
        "    Hull = ConvexHull(Points)\n",
        "    #Find the lower hull, which starts from the vertex with the min (-Rev)-value (i.e., the one at the 'bottom' of the hull), and ends at the vertex with the max (-Var) (i.e., the rightmost one)\n",
        "    Vertices = Points.take(Hull.vertices,axis=0)                                  #array of vertices, in the form of (-Var, -Rev)\n",
        "    Start_Position = np.where(Vertices[:,1] == np.min(Vertices[:,1]))[-1]\n",
        "    End_Position = np.where(Vertices[:,0] == np.max(Vertices[:,0]))[0]\n",
        "    #The indexes of optimal assortments in the Cand_Assort\n",
        "    if Start_Position[0] > End_Position[0]:\n",
        "        Optimal_Assort_Index = np.hstack((Hull.vertices[Start_Position[0]:] , Hull.vertices[:End_Position[0]+1]))\n",
        "    else:\n",
        "        Optimal_Assort_Index = Hull.vertices[Start_Position[0]:End_Position[0]+1]\n",
        "    Optimal_Assort_Temp = [Cand_Assort[i] for i in Optimal_Assort_Index]\n",
        "    #Generate EF, from 0 to +∞. For the focal line, compare its intersection with the next line and the x-axis to check if we need to break the loop.  \n",
        "    Efficient_Frontier = [0]\n",
        "    Optimal_Assort = []\n",
        "    Optimal_Assort.append(Optimal_Assort_Temp[0])\n",
        "    for i in range(len(Optimal_Assort_Temp)-1):\n",
        "        BP = Line2Point(Points[Optimal_Assort_Index[i]],Points[Optimal_Assort_Index[i+1]])         #x-coord of breakpoint of L_i, L_{i+1}, euqal to the slope of the line covers D_i, D_{i+1}\n",
        "        xzero = Points[Optimal_Assort_Index[i]][1]/(Points[Optimal_Assort_Index[i]][0])            #x_0 = -k/b = -Var/-Rev\n",
        "        if BP < xzero:\n",
        "            Efficient_Frontier.append(BP)\n",
        "            Optimal_Assort.append(Optimal_Assort_Temp[i+1])\n",
        "        else:\n",
        "            Efficient_Frontier.append(xzero)\n",
        "            Optimal_Assort.append('Empty set')\n",
        "            break\n",
        "    if Optimal_Assort[-1] != 'Empty set':\n",
        "        Efficient_Frontier.append(Points[Optimal_Assort_Index[len(Optimal_Assort_Temp)-1]][1]/(Points[Optimal_Assort_Index[len(Optimal_Assort_Temp)-1]][0]))\n",
        "        Optimal_Assort.append('Empty set')\n",
        "    Efficient_Frontier.append('Infinity')\n",
        "    #compute number of optimal assortments and running time\n",
        "    cand_number.append(len(Cand_Assort))\n",
        "    optimal_number.append(len(Optimal_Assort))\n",
        "    end = time.process_time()\n",
        "    time_number.append(end - start)\n",
        "\n",
        "    #print(Cand_Assort)\n",
        "    #print(Optimal_Assort)                  \n",
        "    #print(Efficient_Frontier)   \n",
        "\n",
        "    #Check correctness\n",
        "    #generate all subsets of N={1,2,...,n}\n",
        "    Subsets = []\n",
        "    for i in range(len(N)):\n",
        "        for j in combinations(N,i+1):\n",
        "            Subsets.append(j)\n",
        "\n",
        "    #Initialization & fix a lambda\n",
        "    Temp_optimal_index_list = []\n",
        "    Temp_optimal_index = []\n",
        "    lambda_coeff = [0.5*(Efficient_Frontier[i] + Efficient_Frontier[i+1]) for i in range(len(Efficient_Frontier)-2)]\n",
        "    lambda_coeff.append(Efficient_Frontier[-2]+1)        #List of fixed lambda, the last lambda equals to the intersection with x-axis plus 1\n",
        "\n",
        "\n",
        "    #Find the assortment achieving highest objective function value among all subsets\n",
        "    for j in range(len(lambda_coeff)):\n",
        "        Temp_obj = 0\n",
        "        Temp_optimal_index = []\n",
        "        for i in Subsets:\n",
        "            if Obj(i,j) > Temp_obj:\n",
        "                Temp_obj = Obj(i,j)\n",
        "                Temp_optimal_index = i\n",
        "        if len(Temp_optimal_index) != 0:\n",
        "            Temp_optimal_index_list.append(Temp_optimal_index)\n",
        "    Tuple2List = [set(i) for i in Temp_optimal_index_list]\n",
        "    Alg_set = [set(i) for i in Optimal_Assort[:-1]]\n",
        "    if Tuple2List == Alg_set:\n",
        "        Correctness.append(1)\n",
        "    else: \n",
        "        Correctness.append(0)\n",
        "        #To jump out when there is inconsistent assortment, add break\n",
        "        #break\n",
        "\n",
        "print('The average number of candidate assortments is', sum(cand_number)/len(cand_number))\n",
        "print('The average number of optimal assortments is', sum(optimal_number)/len(optimal_number))\n",
        "print('The average running time is', sum(time_number)/len(time_number))\n",
        "print('The correctness rate of the algorithm is', sum(Correctness)/len(Correctness))"
      ]
    }
  ],
  "metadata": {
    "kernelspec": {
      "display_name": "base",
      "language": "python",
      "name": "python3"
    },
    "language_info": {
      "codemirror_mode": {
        "name": "ipython",
        "version": 3
      },
      "file_extension": ".py",
      "mimetype": "text/x-python",
      "name": "python",
      "nbconvert_exporter": "python",
      "pygments_lexer": "ipython3",
      "version": "3.13.5"
    }
  },
  "nbformat": 4,
  "nbformat_minor": 4
}
